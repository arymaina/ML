{
  "nbformat": 4,
  "nbformat_minor": 0,
  "metadata": {
    "colab": {
      "name": "lungs.ipynb",
      "provenance": [],
      "collapsed_sections": [],
      "toc_visible": true,
      "mount_file_id": "1cfVFaYSLqLR8UxqDmjWpyurRCql9Dd6n",
      "authorship_tag": "ABX9TyMhktjskLRZUNAr271U57Ct",
      "include_colab_link": true
    },
    "kernelspec": {
      "name": "python3",
      "display_name": "Python 3"
    },
    "accelerator": "GPU"
  },
  "cells": [
    {
      "cell_type": "markdown",
      "metadata": {
        "id": "view-in-github",
        "colab_type": "text"
      },
      "source": [
        "<a href=\"https://colab.research.google.com/github/arymaina/ML/blob/master/lungs.ipynb\" target=\"_parent\"><img src=\"https://colab.research.google.com/assets/colab-badge.svg\" alt=\"Open In Colab\"/></a>"
      ]
    },
    {
      "cell_type": "code",
      "metadata": {
        "id": "7WgN-vjPFRXz",
        "colab_type": "code",
        "colab": {}
      },
      "source": [
        "import numpy as np\n",
        "import matplotlib.pyplot as plt\n",
        "import os\n",
        "import cv2\n",
        "from tqdm import tqdm"
      ],
      "execution_count": 0,
      "outputs": []
    },
    {
      "cell_type": "code",
      "metadata": {
        "id": "MYVwFSwshfB8",
        "colab_type": "code",
        "outputId": "1381b67c-d1b3-41da-e78f-67d1f7e588bd",
        "colab": {
          "base_uri": "https://localhost:8080/",
          "height": 68
        }
      },
      "source": [
        "DATADIR = \"/content/drive/My Drive/train\"\n",
        "CATEGORIES = [\"PNEUMONIA\", \"NORMAL\"]\n",
        "\n",
        "IMG_SIZE = 150\n",
        "\n",
        "training_data = []\n",
        "\n",
        "def create_training_data():\n",
        "    for category in CATEGORIES:  # \n",
        "\n",
        "        path = os.path.join(DATADIR,category)  # \n",
        "        class_num = CATEGORIES.index(category)  # get the classification  (0 or a 1). 0=PNEUMONIA 1=NORMAL\n",
        "\n",
        "        for img in tqdm(os.listdir(path)):  # iterate over each image per noraml and pneumonia\n",
        "            try:\n",
        "                img_array = cv2.imread(os.path.join(path,img) ,cv2.IMREAD_GRAYSCALE)  # convert to array\n",
        "                new_array = cv2.resize(img_array, (IMG_SIZE, IMG_SIZE))  # resize to normalize data size\n",
        "                training_data.append([new_array, class_num])  # add this to our training_data\n",
        "            except Exception as e:  # in the interest in keeping the output clean...\n",
        "                pass\n",
        "            #except OSError as e:\n",
        "            #    print(\"OSErrroBad img most likely\", e, os.path.join(path,img))\n",
        "            #except Exception as e:\n",
        "            #    print(\"general exception\", e, os.path.join(path,img))\n",
        "\n",
        "create_training_data()\n",
        "\n",
        "print(len(training_data))"
      ],
      "execution_count": 0,
      "outputs": [
        {
          "output_type": "stream",
          "text": [
            "100%|██████████| 3875/3875 [00:34<00:00, 111.26it/s]\n",
            "100%|██████████| 1342/1342 [00:30<00:00, 44.72it/s]"
          ],
          "name": "stderr"
        },
        {
          "output_type": "stream",
          "text": [
            "5216\n"
          ],
          "name": "stdout"
        },
        {
          "output_type": "stream",
          "text": [
            "\n"
          ],
          "name": "stderr"
        }
      ]
    },
    {
      "cell_type": "code",
      "metadata": {
        "id": "4LlaHA8Lw6pq",
        "colab_type": "code",
        "colab": {}
      },
      "source": [
        "import random\n",
        "\n",
        "random.shuffle(training_data)\n",
        "\n",
        "for sample in training_data[:10]:\n",
        "    print(sample[1])\n",
        "\n",
        "X = []\n",
        "y = []\n",
        "\n",
        "for features,label in training_data:\n",
        "    X.append(features)\n",
        "    y.append(label)\n",
        "\n",
        "print(X[0].reshape(-1, IMG_SIZE, IMG_SIZE, 1))\n",
        "\n",
        "X = np.array(X).reshape(-1, IMG_SIZE, IMG_SIZE, 1)"
      ],
      "execution_count": 0,
      "outputs": []
    },
    {
      "cell_type": "code",
      "metadata": {
        "id": "7O7hz8Qhw9Eb",
        "colab_type": "code",
        "colab": {}
      },
      "source": [
        "import pickle\n",
        "\n",
        "pickle_out = open(\"X.pickle\",\"wb\")\n",
        "pickle.dump(X, pickle_out)\n",
        "pickle_out.close()\n",
        "\n",
        "pickle_out = open(\"y.pickle\",\"wb\")\n",
        "pickle.dump(y, pickle_out)\n",
        "pickle_out.close()\n",
        "\n",
        "pickle_in = open(\"X.pickle\",\"rb\")\n",
        "X = pickle.load(pickle_in)\n",
        "\n",
        "pickle_in = open(\"y.pickle\",\"rb\")\n",
        "y = pickle.load(pickle_in)"
      ],
      "execution_count": 0,
      "outputs": []
    },
    {
      "cell_type": "code",
      "metadata": {
        "id": "Fdfo96s7xBHX",
        "colab_type": "code",
        "colab": {}
      },
      "source": [
        "from tensorflow.keras.models import Sequential\n",
        "from tensorflow.keras.layers import Dense, Dropout, Activation, Flatten\n",
        "from tensorflow.keras.layers import Conv2D, MaxPooling2D\n",
        "# more info on callbakcs: https://keras.io/callbacks/ model saver is cool too.\n",
        "from tensorflow.keras.callbacks import TensorBoard\n",
        "\n",
        "import time"
      ],
      "execution_count": 0,
      "outputs": []
    },
    {
      "cell_type": "code",
      "metadata": {
        "id": "HqSI_ClVxDE7",
        "colab_type": "code",
        "colab": {}
      },
      "source": [
        "pickle_in = open(\"X.pickle\",\"rb\")\n",
        "X = pickle.load(pickle_in)\n",
        "\n",
        "pickle_in = open(\"y.pickle\",\"rb\")\n",
        "y = pickle.load(pickle_in)\n",
        "\n",
        "X = X/255.0\n",
        "\n",
        "X = np.array(X).reshape(-1, IMG_SIZE, IMG_SIZE, 1)\n",
        "\n",
        "y = np.array(y)\n",
        "\n",
        "dense_layers = [0]"
      ],
      "execution_count": 0,
      "outputs": []
    },
    {
      "cell_type": "code",
      "metadata": {
        "id": "VrxCabWDxGhD",
        "colab_type": "code",
        "outputId": "c1f8dbce-75d6-46df-f660-a474f960829e",
        "colab": {
          "base_uri": "https://localhost:8080/",
          "height": 904
        }
      },
      "source": [
        "layer_sizes = [64]\n",
        "conv_layers = [3]\n",
        "\n",
        "for dense_layer in dense_layers:\n",
        "    for layer_size in layer_sizes:\n",
        "        for conv_layer in conv_layers:\n",
        "            NAME = \"{}-conv-{}-nodes-{}-dense-{}\".format(conv_layer, layer_size, dense_layer, int(time.time()))\n",
        "            print(NAME)\n",
        "\n",
        "            model = Sequential()\n",
        "\n",
        "            model.add(Conv2D(layer_size, (3, 3), input_shape=X.shape[1:]))\n",
        "            model.add(Activation('relu'))\n",
        "            model.add(MaxPooling2D(pool_size=(2, 2)))\n",
        "\n",
        "            for l in range(conv_layer-1):\n",
        "                model.add(Conv2D(layer_size, (3, 3)))\n",
        "                model.add(Activation('relu'))\n",
        "                model.add(MaxPooling2D(pool_size=(2, 2)))\n",
        "\n",
        "            model.add(Flatten())\n",
        "\n",
        "            for _ in range(dense_layer):\n",
        "                model.add(Dense(layer_size))\n",
        "                model.add(Activation('relu'))\n",
        "\n",
        "            model.add(Dense(1))\n",
        "            model.add(Activation('sigmoid'))\n",
        "\n",
        "            tensorboard = TensorBoard(log_dir=\"logs/{}\".format(NAME))\n",
        "\n",
        "            model.compile(loss='binary_crossentropy',\n",
        "                          optimizer='adam',\n",
        "                          metrics=['accuracy'],\n",
        "                          )\n",
        "            \n",
        "\n",
        "            model.fit(X, y,\n",
        "                      batch_size=32,\n",
        "                      epochs=25,\n",
        "                      validation_split=0.3,\n",
        "                      callbacks=[tensorboard])"
      ],
      "execution_count": 0,
      "outputs": [
        {
          "output_type": "stream",
          "text": [
            "3-conv-64-nodes-0-dense-1587233258\n",
            "Epoch 1/25\n",
            "115/115 [==============================] - 5s 46ms/step - loss: 0.3092 - accuracy: 0.8663 - val_loss: 0.1425 - val_accuracy: 0.9482\n",
            "Epoch 2/25\n",
            "115/115 [==============================] - 5s 39ms/step - loss: 0.1343 - accuracy: 0.9532 - val_loss: 0.2284 - val_accuracy: 0.9048\n",
            "Epoch 3/25\n",
            "115/115 [==============================] - 5s 39ms/step - loss: 0.1117 - accuracy: 0.9603 - val_loss: 0.1019 - val_accuracy: 0.9610\n",
            "Epoch 4/25\n",
            "115/115 [==============================] - 5s 39ms/step - loss: 0.0790 - accuracy: 0.9743 - val_loss: 0.1339 - val_accuracy: 0.9514\n",
            "Epoch 5/25\n",
            "115/115 [==============================] - 5s 39ms/step - loss: 0.0962 - accuracy: 0.9652 - val_loss: 0.0869 - val_accuracy: 0.9629\n",
            "Epoch 6/25\n",
            "115/115 [==============================] - 5s 39ms/step - loss: 0.0702 - accuracy: 0.9767 - val_loss: 0.1331 - val_accuracy: 0.9546\n",
            "Epoch 7/25\n",
            "115/115 [==============================] - 4s 39ms/step - loss: 0.0531 - accuracy: 0.9822 - val_loss: 0.1016 - val_accuracy: 0.9655\n",
            "Epoch 8/25\n",
            "115/115 [==============================] - 4s 39ms/step - loss: 0.0572 - accuracy: 0.9819 - val_loss: 0.0903 - val_accuracy: 0.9674\n",
            "Epoch 9/25\n",
            "115/115 [==============================] - 4s 39ms/step - loss: 0.0536 - accuracy: 0.9811 - val_loss: 0.0838 - val_accuracy: 0.9687\n",
            "Epoch 10/25\n",
            "115/115 [==============================] - 4s 39ms/step - loss: 0.0448 - accuracy: 0.9833 - val_loss: 0.0823 - val_accuracy: 0.9732\n",
            "Epoch 11/25\n",
            "115/115 [==============================] - 4s 39ms/step - loss: 0.0315 - accuracy: 0.9888 - val_loss: 0.0850 - val_accuracy: 0.9712\n",
            "Epoch 12/25\n",
            "115/115 [==============================] - 4s 39ms/step - loss: 0.0284 - accuracy: 0.9904 - val_loss: 0.0768 - val_accuracy: 0.9738\n",
            "Epoch 13/25\n",
            "115/115 [==============================] - 4s 39ms/step - loss: 0.0176 - accuracy: 0.9942 - val_loss: 0.0945 - val_accuracy: 0.9712\n",
            "Epoch 14/25\n",
            "115/115 [==============================] - 4s 39ms/step - loss: 0.0158 - accuracy: 0.9934 - val_loss: 0.1336 - val_accuracy: 0.9617\n",
            "Epoch 15/25\n",
            "115/115 [==============================] - 4s 39ms/step - loss: 0.0149 - accuracy: 0.9948 - val_loss: 0.0901 - val_accuracy: 0.9725\n",
            "Epoch 16/25\n",
            "115/115 [==============================] - 4s 39ms/step - loss: 0.0162 - accuracy: 0.9937 - val_loss: 0.0984 - val_accuracy: 0.9617\n",
            "Epoch 17/25\n",
            "115/115 [==============================] - 4s 39ms/step - loss: 0.0114 - accuracy: 0.9962 - val_loss: 0.0948 - val_accuracy: 0.9744\n",
            "Epoch 18/25\n",
            "115/115 [==============================] - 4s 39ms/step - loss: 0.0042 - accuracy: 0.9997 - val_loss: 0.1097 - val_accuracy: 0.9712\n",
            "Epoch 19/25\n",
            "115/115 [==============================] - 4s 39ms/step - loss: 0.0015 - accuracy: 1.0000 - val_loss: 0.1111 - val_accuracy: 0.9732\n",
            "Epoch 20/25\n",
            "115/115 [==============================] - 5s 39ms/step - loss: 0.0013 - accuracy: 1.0000 - val_loss: 0.1138 - val_accuracy: 0.9725\n",
            "Epoch 21/25\n",
            "115/115 [==============================] - 5s 39ms/step - loss: 0.0042 - accuracy: 0.9995 - val_loss: 0.1850 - val_accuracy: 0.9572\n",
            "Epoch 22/25\n",
            "115/115 [==============================] - 4s 39ms/step - loss: 0.0211 - accuracy: 0.9934 - val_loss: 0.0972 - val_accuracy: 0.9738\n",
            "Epoch 23/25\n",
            "115/115 [==============================] - 4s 39ms/step - loss: 0.0115 - accuracy: 0.9956 - val_loss: 0.1079 - val_accuracy: 0.9668\n",
            "Epoch 24/25\n",
            "115/115 [==============================] - 4s 39ms/step - loss: 0.0134 - accuracy: 0.9940 - val_loss: 0.1149 - val_accuracy: 0.9706\n",
            "Epoch 25/25\n",
            "115/115 [==============================] - 4s 39ms/step - loss: 0.0026 - accuracy: 0.9995 - val_loss: 0.1244 - val_accuracy: 0.9732\n"
          ],
          "name": "stdout"
        }
      ]
    },
    {
      "cell_type": "code",
      "metadata": {
        "id": "J4xP62TbsG2i",
        "colab_type": "code",
        "outputId": "2b5f2efb-879f-4932-9a77-c2476ce126cd",
        "colab": {
          "base_uri": "https://localhost:8080/",
          "height": 51
        }
      },
      "source": [
        "TEST_DATADIR = \"/content/drive/My Drive/test\"\n",
        "test_data = []\n",
        "def create_test_data():\n",
        "    for category in CATEGORIES:  # \n",
        "\n",
        "        path = os.path.join(TEST_DATADIR,category)  # \n",
        "        class_num = CATEGORIES.index(category)  # get the classification  (0 or a 1). 0=PNEUMONIA 1=NORMAL\n",
        "\n",
        "        for img in tqdm(os.listdir(path)):  # iterate over each image per dogs and cats\n",
        "            try:\n",
        "                img_array = cv2.imread(os.path.join(path,img) ,cv2.IMREAD_GRAYSCALE)  # convert to array\n",
        "                new_array = cv2.resize(img_array, (IMG_SIZE, IMG_SIZE))  # resize to normalize data size\n",
        "                test_data.append([new_array, class_num])  # add this to our training_data\n",
        "            except Exception as e:  # in the interest in keeping the output clean...\n",
        "                pass\n",
        "            #except OSError as e:\n",
        "            #    print(\"OSErrroBad img most likely\", e, os.path.join(path,img))\n",
        "            #except Exception as e:\n",
        "            #    print(\"general exception\", e, os.path.join(path,img))\n",
        "\n",
        "create_test_data()"
      ],
      "execution_count": 0,
      "outputs": [
        {
          "output_type": "stream",
          "text": [
            "100%|██████████| 390/390 [00:02<00:00, 152.12it/s]\n",
            "100%|██████████| 234/234 [00:03<00:00, 69.48it/s]\n"
          ],
          "name": "stderr"
        }
      ]
    },
    {
      "cell_type": "code",
      "metadata": {
        "id": "SEsAwdQ8vLXh",
        "colab_type": "code",
        "outputId": "d29d2405-8563-4c00-a59a-89be473fd9ea",
        "colab": {
          "base_uri": "https://localhost:8080/",
          "height": 51
        }
      },
      "source": [
        "Z_ = []\n",
        "W_ = []\n",
        "\n",
        "for features,label in test_data:\n",
        "    Z_.append(features)\n",
        "    W_.append(label)\n",
        "\n",
        "Z_ = np.array(Z_).reshape(-1, IMG_SIZE, IMG_SIZE, 1)\n",
        "\n",
        "Z_ = Z_/255.0\n",
        "\n",
        "Z_ = np.array(Z_).reshape(-1, IMG_SIZE, IMG_SIZE, 1)\n",
        "\n",
        "W_ = np.array(W_)\n",
        "\n",
        "model.evaluate(x=Z_, y=W_, batch_size=32)\n",
        "# eval = model.evalutate(x=Z_, y=W_, batch_size=32)"
      ],
      "execution_count": 0,
      "outputs": [
        {
          "output_type": "stream",
          "text": [
            "20/20 [==============================] - 0s 20ms/step - loss: 3.1514 - accuracy: 0.7468\n"
          ],
          "name": "stdout"
        },
        {
          "output_type": "execute_result",
          "data": {
            "text/plain": [
              "[3.15144944190979, 0.7467948794364929]"
            ]
          },
          "metadata": {
            "tags": []
          },
          "execution_count": 66
        }
      ]
    },
    {
      "cell_type": "code",
      "metadata": {
        "id": "jirZpevXxNhw",
        "colab_type": "code",
        "outputId": "cc440e2b-9e93-43ce-c827-7265428bd771",
        "colab": {
          "base_uri": "https://localhost:8080/",
          "height": 51
        }
      },
      "source": [
        " path = '/content/drive/My Drive/test/PNEUMONIA/'\n",
        " path2 = '/content/drive/My Drive/test/NORMAL/'\n",
        " test_data = []\n",
        " test_data2 = []\n",
        " def prepare(filepath):\n",
        "    IMG_SIZE = 150  \n",
        "\n",
        "    img_array = cv2.imread(filepath, cv2.IMREAD_GRAYSCALE)\n",
        "    new_array = cv2.resize(img_array, (IMG_SIZE, IMG_SIZE))\n",
        "    return new_array.reshape(-1, IMG_SIZE, IMG_SIZE, 1)\n",
        "\n",
        " for img in tqdm(os.listdir(path)):  # iterate over each test image \n",
        "            try:\n",
        "                test_data.append(prepare(os.path.join(path,img)) )  # add this to our test_data\n",
        "            except Exception as e:  # in the interest in keeping the output clean...\n",
        "                pass\n",
        " for img in tqdm(os.listdir(path2)):  # iterate over each test image \n",
        "            try:\n",
        "                test_data2.append(prepare(os.path.join(path2,img)) )  # add this to our test_data\n",
        "            except Exception as e:  # in the interest in keeping the output clean...\n",
        "                pass"
      ],
      "execution_count": 0,
      "outputs": [
        {
          "output_type": "stream",
          "text": [
            "100%|██████████| 390/390 [00:02<00:00, 148.12it/s]\n",
            "100%|██████████| 234/234 [00:03<00:00, 67.41it/s]\n"
          ],
          "name": "stderr"
        }
      ]
    },
    {
      "cell_type": "code",
      "metadata": {
        "id": "XBDTnyyNr3_r",
        "colab_type": "code",
        "colab": {}
      },
      "source": [
        "test_data"
      ],
      "execution_count": 0,
      "outputs": []
    }
  ]
}